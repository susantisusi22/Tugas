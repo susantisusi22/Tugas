{
 "cells": [
  {
   "cell_type": "code",
   "execution_count": 1,
   "id": "814b777f",
   "metadata": {},
   "outputs": [
    {
     "name": "stdout",
     "output_type": "stream",
     "text": [
      "Ini Kelas Algoritma\n"
     ]
    }
   ],
   "source": [
    "print('Ini Kelas Algoritma')"
   ]
  },
  {
   "cell_type": "code",
   "execution_count": 2,
   "id": "c40a81c1",
   "metadata": {},
   "outputs": [
    {
     "name": "stdout",
     "output_type": "stream",
     "text": [
      "Ini Kelas Algoritma\n"
     ]
    }
   ],
   "source": [
    "print(\"Ini Kelas Algoritma\")"
   ]
  },
  {
   "cell_type": "code",
   "execution_count": 180,
   "id": "b64a3101",
   "metadata": {},
   "outputs": [
    {
     "name": "stdout",
     "output_type": "stream",
     "text": [
      "I don't understant what are you saying \n"
     ]
    }
   ],
   "source": [
    "print(\"I don't understant what are you saying \")"
   ]
  },
  {
   "cell_type": "code",
   "execution_count": 6,
   "id": "30496e84",
   "metadata": {},
   "outputs": [
    {
     "name": "stdout",
     "output_type": "stream",
     "text": [
      "I don't understant what are you saying\n"
     ]
    }
   ],
   "source": [
    "print(\"I don't understant what are you saying\")"
   ]
  },
  {
   "cell_type": "code",
   "execution_count": 152,
   "id": "d363dfee",
   "metadata": {},
   "outputs": [
    {
     "name": "stdout",
     "output_type": "stream",
     "text": [
      "she is so smart\n"
     ]
    }
   ],
   "source": [
    "print('she is so smart')"
   ]
  },
  {
   "cell_type": "code",
   "execution_count": 153,
   "id": "103df0eb",
   "metadata": {},
   "outputs": [
    {
     "name": "stdout",
     "output_type": "stream",
     "text": [
      " she is so smart \n"
     ]
    }
   ],
   "source": [
    "print(\" she is so smart \")"
   ]
  },
  {
   "cell_type": "code",
   "execution_count": 154,
   "id": "902ec635",
   "metadata": {},
   "outputs": [
    {
     "name": "stdout",
     "output_type": "stream",
     "text": [
      "2000\n",
      "5000\n",
      "10000000\n"
     ]
    }
   ],
   "source": [
    "uang_belanja = 2000\n",
    "uang_di_dompet = 5000\n",
    "print(uang_belanja)\n",
    "print(uang_di_dompet)\n",
    "print(uang_belanja*uang_di_dompet)"
   ]
  },
  {
   "cell_type": "code",
   "execution_count": 155,
   "id": "5661f926",
   "metadata": {},
   "outputs": [
    {
     "name": "stdout",
     "output_type": "stream",
     "text": [
      "Susi Susanti \n"
     ]
    }
   ],
   "source": [
    "nama_depan = 'Susi '\n",
    "nama_tengah = 'Susanti '\n",
    "print(nama_depan + nama_tengah)"
   ]
  },
  {
   "cell_type": "code",
   "execution_count": 181,
   "id": "62cc662f",
   "metadata": {},
   "outputs": [
    {
     "name": "stdout",
     "output_type": "stream",
     "text": [
      " Siapakah nama anda? Susi Susanti\n",
      "Apakah kegiatan anda sekarang, Susi Susanti?dance\n",
      "Semangat dancenya yah, Susi Susanti!\n"
     ]
    }
   ],
   "source": [
    "nama = input(\" Siapakah nama anda? \")\n",
    "kegiatan = input('Apakah kegiatan anda sekarang, ' + nama +\"?\")\n",
    "print(\"Semangat \"+ kegiatan +\"nya yah, \" + nama + \"!\")"
   ]
  },
  {
   "cell_type": "code",
   "execution_count": 157,
   "id": "dc9ccf1c",
   "metadata": {},
   "outputs": [
    {
     "name": "stdout",
     "output_type": "stream",
     "text": [
      "Berapakah jumlah uang di dompet anda? 4000\n",
      "Berapakah jumlah uang di bank? 7000\n",
      "Total uang anda adalah Rp 40007000\n"
     ]
    }
   ],
   "source": [
    "uang_di_dompet = input(\"Berapakah jumlah uang di dompet anda? \")\n",
    "uang_di_bank = input(\"Berapakah jumlah uang di bank? \")\n",
    "print(\"Total uang anda adalah Rp \" + uang_di_dompet + uang_di_bank)"
   ]
  },
  {
   "cell_type": "code",
   "execution_count": 158,
   "id": "aca8bd48",
   "metadata": {},
   "outputs": [
    {
     "name": "stdout",
     "output_type": "stream",
     "text": [
      "Berapakah jumlah uang di celana anda? 1000\n",
      "Berapakah jumlah uang di baju? 3000\n",
      "Total uang anda adalah Rp 4000\n"
     ]
    }
   ],
   "source": [
    "uang_di_celana = input(\"Berapakah jumlah uang di celana anda? \")\n",
    "uang_di_baju = input(\"Berapakah jumlah uang di baju? \")\n",
    "total_uang = int(uang_di_celana) + int(uang_di_baju)\n",
    "print(\"Total uang anda adalah Rp \" + str(total_uang))"
   ]
  },
  {
   "cell_type": "code",
   "execution_count": 159,
   "id": "abaffbba",
   "metadata": {},
   "outputs": [
    {
     "name": "stdout",
     "output_type": "stream",
     "text": [
      "Masukkan bilangan pertama: 5\n",
      "Masukkan bilangan dua: 4\n",
      "Jumlah kedua bilangan adalah 9.0\n"
     ]
    }
   ],
   "source": [
    "bilangan_satu = input(\"Masukkan bilangan pertama: \")\n",
    "bilangan_dua = input(\"Masukkan bilangan dua: \")\n",
    "jumlah = float(bilangan_satu) + float(bilangan_dua)\n",
    "print(\"Jumlah kedua bilangan adalah \" + str(jumlah))"
   ]
  },
  {
   "cell_type": "code",
   "execution_count": 35,
   "id": "c0b59639",
   "metadata": {},
   "outputs": [
    {
     "data": {
      "text/plain": [
       "str"
      ]
     },
     "execution_count": 35,
     "metadata": {},
     "output_type": "execute_result"
    }
   ],
   "source": [
    "type(uang_di_celana)"
   ]
  },
  {
   "cell_type": "code",
   "execution_count": 36,
   "id": "def693b1",
   "metadata": {},
   "outputs": [
    {
     "data": {
      "text/plain": [
       "int"
      ]
     },
     "execution_count": 36,
     "metadata": {},
     "output_type": "execute_result"
    }
   ],
   "source": [
    "type(200)"
   ]
  },
  {
   "cell_type": "code",
   "execution_count": 38,
   "id": "4a2b6d76",
   "metadata": {},
   "outputs": [
    {
     "data": {
      "text/plain": [
       "float"
      ]
     },
     "execution_count": 38,
     "metadata": {},
     "output_type": "execute_result"
    }
   ],
   "source": [
    "type(0.01)"
   ]
  },
  {
   "cell_type": "code",
   "execution_count": 43,
   "id": "bf95848e",
   "metadata": {},
   "outputs": [
    {
     "data": {
      "text/plain": [
       "bool"
      ]
     },
     "execution_count": 43,
     "metadata": {},
     "output_type": "execute_result"
    }
   ],
   "source": [
    "type(True)"
   ]
  },
  {
   "cell_type": "code",
   "execution_count": null,
   "id": "9be159ed",
   "metadata": {},
   "outputs": [],
   "source": []
  },
  {
   "cell_type": "code",
   "execution_count": 163,
   "id": "6845a4cf",
   "metadata": {},
   "outputs": [
    {
     "name": "stdout",
     "output_type": "stream",
     "text": [
      " Susi Susanti adalah seorang mahasiswa yang beralamat di jln. bukit dharma 1 pondok indah no.46 \n"
     ]
    }
   ],
   "source": [
    "nama = \" Susi Susanti \"\n",
    "status = \" mahasiswa \"\n",
    "alamat = \" jln. bukit dharma 1 pondok indah no.46 \"\n",
    "print(nama + 'adalah seorang' + status + 'yang beralamat di' + alamat)"
   ]
  },
  {
   "cell_type": "code",
   "execution_count": 164,
   "id": "8f58e2f3",
   "metadata": {},
   "outputs": [
    {
     "name": "stdout",
     "output_type": "stream",
     "text": [
      " Susi Susanti  adalah seorang  mahasiswa  yang beralamat di  jln. bukit dharma 1 pondok indah no.46 \n"
     ]
    }
   ],
   "source": [
    "print(f'{nama} adalah seorang {status} yang beralamat di {alamat}')"
   ]
  },
  {
   "cell_type": "code",
   "execution_count": 165,
   "id": "15f33fcc",
   "metadata": {},
   "outputs": [
    {
     "name": "stdout",
     "output_type": "stream",
     "text": [
      " Susi Susanti  adalah seorang  mahasiswa  yang beralamat di  jln. bukit dharma 1 pondok indah no.46 \n"
     ]
    }
   ],
   "source": [
    "print(f\"{nama} adalah seorang {status} yang beralamat di {alamat}\")"
   ]
  },
  {
   "cell_type": "code",
   "execution_count": null,
   "id": "63bb6311",
   "metadata": {},
   "outputs": [],
   "source": []
  },
  {
   "cell_type": "code",
   "execution_count": 69,
   "id": "a4e4bce9",
   "metadata": {},
   "outputs": [],
   "source": [
    "kelas = 'ini kelas algoritma'"
   ]
  },
  {
   "cell_type": "code",
   "execution_count": 70,
   "id": "30cc59c8",
   "metadata": {},
   "outputs": [
    {
     "name": "stdout",
     "output_type": "stream",
     "text": [
      "ini\n"
     ]
    }
   ],
   "source": [
    "print(kelas[0:3])"
   ]
  },
  {
   "cell_type": "code",
   "execution_count": 71,
   "id": "ff886846",
   "metadata": {},
   "outputs": [
    {
     "name": "stdout",
     "output_type": "stream",
     "text": [
      "ini kelas algoritm\n"
     ]
    }
   ],
   "source": [
    "print(kelas[0:-1])"
   ]
  },
  {
   "cell_type": "code",
   "execution_count": 72,
   "id": "0bb91634",
   "metadata": {},
   "outputs": [
    {
     "name": "stdout",
     "output_type": "stream",
     "text": [
      "elas algoritm\n"
     ]
    }
   ],
   "source": [
    "print(kelas[5:-1])"
   ]
  },
  {
   "cell_type": "code",
   "execution_count": 73,
   "id": "209b5fb4",
   "metadata": {},
   "outputs": [
    {
     "name": "stdout",
     "output_type": "stream",
     "text": [
      "ieslr\n"
     ]
    }
   ],
   "source": [
    "print(kelas[2:-2:3])"
   ]
  },
  {
   "cell_type": "code",
   "execution_count": 74,
   "id": "a5a86269",
   "metadata": {},
   "outputs": [
    {
     "name": "stdout",
     "output_type": "stream",
     "text": [
      "ini\n"
     ]
    }
   ],
   "source": [
    "print(kelas[:3])"
   ]
  },
  {
   "cell_type": "code",
   "execution_count": 75,
   "id": "4103bfed",
   "metadata": {},
   "outputs": [
    {
     "name": "stdout",
     "output_type": "stream",
     "text": [
      "i kelas algoritma\n"
     ]
    }
   ],
   "source": [
    "print(kelas[2:])"
   ]
  },
  {
   "cell_type": "code",
   "execution_count": 76,
   "id": "2628a516",
   "metadata": {},
   "outputs": [
    {
     "name": "stdout",
     "output_type": "stream",
     "text": [
      "ini kelas algoritma\n"
     ]
    }
   ],
   "source": [
    "print(kelas[:])"
   ]
  },
  {
   "cell_type": "code",
   "execution_count": null,
   "id": "b95ac120",
   "metadata": {},
   "outputs": [],
   "source": []
  },
  {
   "cell_type": "code",
   "execution_count": 77,
   "id": "9e07fd53",
   "metadata": {},
   "outputs": [],
   "source": [
    "judul = 'the wonderfull of indonesia'"
   ]
  },
  {
   "cell_type": "code",
   "execution_count": 78,
   "id": "4f330ba4",
   "metadata": {},
   "outputs": [
    {
     "name": "stdout",
     "output_type": "stream",
     "text": [
      "27\n"
     ]
    }
   ],
   "source": [
    "print(len(judul))"
   ]
  },
  {
   "cell_type": "code",
   "execution_count": 79,
   "id": "1cbdc25a",
   "metadata": {},
   "outputs": [
    {
     "data": {
      "text/plain": [
       "'THE WONDERFULL OF INDONESIA'"
      ]
     },
     "execution_count": 79,
     "metadata": {},
     "output_type": "execute_result"
    }
   ],
   "source": [
    "judul.upper()"
   ]
  },
  {
   "cell_type": "code",
   "execution_count": 81,
   "id": "3f47516b",
   "metadata": {},
   "outputs": [
    {
     "data": {
      "text/plain": [
       "'the wonderfull of indonesia'"
      ]
     },
     "execution_count": 81,
     "metadata": {},
     "output_type": "execute_result"
    }
   ],
   "source": [
    "judul.lower()"
   ]
  },
  {
   "cell_type": "code",
   "execution_count": 82,
   "id": "b8eaf7db",
   "metadata": {},
   "outputs": [
    {
     "data": {
      "text/plain": [
       "15"
      ]
     },
     "execution_count": 82,
     "metadata": {},
     "output_type": "execute_result"
    }
   ],
   "source": [
    "judul.find('of')"
   ]
  },
  {
   "cell_type": "code",
   "execution_count": 91,
   "id": "197e024b",
   "metadata": {},
   "outputs": [
    {
     "data": {
      "text/plain": [
       "-1"
      ]
     },
     "execution_count": 91,
     "metadata": {},
     "output_type": "execute_result"
    }
   ],
   "source": [
    "judul.find('te')"
   ]
  },
  {
   "cell_type": "code",
   "execution_count": 94,
   "id": "e7dc7981",
   "metadata": {},
   "outputs": [
    {
     "data": {
      "text/plain": [
       "'indonesia wonderfull of indonesia'"
      ]
     },
     "execution_count": 94,
     "metadata": {},
     "output_type": "execute_result"
    }
   ],
   "source": [
    "judul.replace('the','indonesia')"
   ]
  },
  {
   "cell_type": "code",
   "execution_count": 96,
   "id": "420a27c0",
   "metadata": {},
   "outputs": [
    {
     "data": {
      "text/plain": [
       "'the wonderfull of indonesia'"
      ]
     },
     "execution_count": 96,
     "metadata": {},
     "output_type": "execute_result"
    }
   ],
   "source": [
    "judul.replace('The', 'indonesia')"
   ]
  },
  {
   "cell_type": "code",
   "execution_count": 97,
   "id": "cb782376",
   "metadata": {},
   "outputs": [
    {
     "name": "stdout",
     "output_type": "stream",
     "text": [
      "False\n"
     ]
    }
   ],
   "source": [
    "print('Bali' in judul)"
   ]
  },
  {
   "cell_type": "code",
   "execution_count": 98,
   "id": "faadda41",
   "metadata": {},
   "outputs": [
    {
     "name": "stdout",
     "output_type": "stream",
     "text": [
      "False\n"
     ]
    }
   ],
   "source": [
    "print(\"Of\" in judul)"
   ]
  },
  {
   "cell_type": "code",
   "execution_count": 99,
   "id": "0391b277",
   "metadata": {},
   "outputs": [
    {
     "name": "stdout",
     "output_type": "stream",
     "text": [
      "True\n"
     ]
    }
   ],
   "source": [
    "print('of' in judul)"
   ]
  },
  {
   "cell_type": "code",
   "execution_count": null,
   "id": "3e475723",
   "metadata": {},
   "outputs": [],
   "source": []
  },
  {
   "cell_type": "code",
   "execution_count": 100,
   "id": "84528abc",
   "metadata": {},
   "outputs": [
    {
     "name": "stdout",
     "output_type": "stream",
     "text": [
      "13\n"
     ]
    }
   ],
   "source": [
    "print(10+3)"
   ]
  },
  {
   "cell_type": "code",
   "execution_count": 101,
   "id": "a0e4035a",
   "metadata": {},
   "outputs": [
    {
     "name": "stdout",
     "output_type": "stream",
     "text": [
      "-2\n"
     ]
    }
   ],
   "source": [
    "print(3-5)"
   ]
  },
  {
   "cell_type": "code",
   "execution_count": 102,
   "id": "e67c6793",
   "metadata": {},
   "outputs": [
    {
     "name": "stdout",
     "output_type": "stream",
     "text": [
      "112\n"
     ]
    }
   ],
   "source": [
    "print(16*7)"
   ]
  },
  {
   "cell_type": "code",
   "execution_count": 103,
   "id": "3f92e911",
   "metadata": {},
   "outputs": [
    {
     "name": "stdout",
     "output_type": "stream",
     "text": [
      "24.4\n"
     ]
    }
   ],
   "source": [
    "print(122/5)"
   ]
  },
  {
   "cell_type": "code",
   "execution_count": 104,
   "id": "c32dd620",
   "metadata": {},
   "outputs": [
    {
     "name": "stdout",
     "output_type": "stream",
     "text": [
      "24\n"
     ]
    }
   ],
   "source": [
    "print(122//5)"
   ]
  },
  {
   "cell_type": "code",
   "execution_count": 105,
   "id": "b5fa1f90",
   "metadata": {},
   "outputs": [
    {
     "name": "stdout",
     "output_type": "stream",
     "text": [
      "0\n"
     ]
    }
   ],
   "source": [
    "print(10%5)"
   ]
  },
  {
   "cell_type": "code",
   "execution_count": 107,
   "id": "a2ba36a5",
   "metadata": {},
   "outputs": [
    {
     "name": "stdout",
     "output_type": "stream",
     "text": [
      "625\n"
     ]
    }
   ],
   "source": [
    "print(5**4)"
   ]
  },
  {
   "cell_type": "code",
   "execution_count": 108,
   "id": "4771db92",
   "metadata": {},
   "outputs": [],
   "source": [
    "x=3"
   ]
  },
  {
   "cell_type": "code",
   "execution_count": 110,
   "id": "c5a9b763",
   "metadata": {},
   "outputs": [],
   "source": [
    "x+=5"
   ]
  },
  {
   "cell_type": "code",
   "execution_count": 111,
   "id": "c04dc015",
   "metadata": {},
   "outputs": [
    {
     "name": "stdout",
     "output_type": "stream",
     "text": [
      "8\n"
     ]
    }
   ],
   "source": [
    "print(x)"
   ]
  },
  {
   "cell_type": "code",
   "execution_count": 112,
   "id": "cd96a8d4",
   "metadata": {},
   "outputs": [],
   "source": [
    "x-=2"
   ]
  },
  {
   "cell_type": "code",
   "execution_count": 113,
   "id": "2066278f",
   "metadata": {},
   "outputs": [
    {
     "name": "stdout",
     "output_type": "stream",
     "text": [
      "6\n"
     ]
    }
   ],
   "source": [
    "print(x)"
   ]
  },
  {
   "cell_type": "code",
   "execution_count": 114,
   "id": "36754296",
   "metadata": {},
   "outputs": [],
   "source": [
    "x*=1"
   ]
  },
  {
   "cell_type": "code",
   "execution_count": 115,
   "id": "10e15cd5",
   "metadata": {},
   "outputs": [
    {
     "name": "stdout",
     "output_type": "stream",
     "text": [
      "6\n"
     ]
    }
   ],
   "source": [
    "print(x)"
   ]
  },
  {
   "cell_type": "code",
   "execution_count": null,
   "id": "e053b1db",
   "metadata": {},
   "outputs": [],
   "source": []
  },
  {
   "cell_type": "code",
   "execution_count": 120,
   "id": "2ccdd877",
   "metadata": {},
   "outputs": [
    {
     "name": "stdout",
     "output_type": "stream",
     "text": [
      "False\n",
      "True\n",
      "True\n",
      "True\n",
      "True\n",
      "True\n"
     ]
    }
   ],
   "source": [
    "x= 3<1\n",
    "print(x)\n",
    "x = 3<5\n",
    "print(x)\n",
    "x = 6 >= 3\n",
    "print(x)\n",
    "x = 6 <=7\n",
    "print(x)\n",
    "x = 5 == 5\n",
    "print(x)\n",
    "x = 5 != 6\n",
    "print(x)"
   ]
  },
  {
   "cell_type": "code",
   "execution_count": 123,
   "id": "eb2c9c4b",
   "metadata": {},
   "outputs": [
    {
     "name": "stdout",
     "output_type": "stream",
     "text": [
      "True\n",
      "False\n",
      "False\n",
      "True\n",
      "False\n",
      "False\n"
     ]
    }
   ],
   "source": [
    "x = 4>3\n",
    "print(x)\n",
    "x = 4<4\n",
    "print(x)\n",
    "x = 2 >= 3\n",
    "print(x)\n",
    "x = 3 <= 4\n",
    "print(x)\n",
    "x = 3 == 5\n",
    "print(x)\n",
    "x = 7 != 7\n",
    "print(x)"
   ]
  },
  {
   "cell_type": "code",
   "execution_count": null,
   "id": "74cb1d89",
   "metadata": {},
   "outputs": [],
   "source": []
  },
  {
   "cell_type": "code",
   "execution_count": 170,
   "id": "aac02920",
   "metadata": {},
   "outputs": [
    {
     "name": "stdout",
     "output_type": "stream",
     "text": [
      "True\n"
     ]
    }
   ],
   "source": [
    "buah_jeruk = 15\n",
    "buah_jambu = 16\n",
    "print(buah_jeruk > 8 and buah_jambu < 17)"
   ]
  },
  {
   "cell_type": "code",
   "execution_count": 171,
   "id": "263e4947",
   "metadata": {},
   "outputs": [
    {
     "name": "stdout",
     "output_type": "stream",
     "text": [
      "True\n"
     ]
    }
   ],
   "source": [
    "print(buah_jeruk < 11 or buah_jambu > 13)"
   ]
  },
  {
   "cell_type": "code",
   "execution_count": 168,
   "id": "4d23e078",
   "metadata": {},
   "outputs": [
    {
     "name": "stdout",
     "output_type": "stream",
     "text": [
      "True\n"
     ]
    }
   ],
   "source": [
    "print(buah_jeruk > 11 or buah_jambu > 17)"
   ]
  },
  {
   "cell_type": "code",
   "execution_count": 177,
   "id": "f97c9948",
   "metadata": {},
   "outputs": [
    {
     "name": "stdout",
     "output_type": "stream",
     "text": [
      "False\n"
     ]
    }
   ],
   "source": [
    "print(not(buah_jeruk < 16 or buah_jambu > 18))"
   ]
  },
  {
   "cell_type": "code",
   "execution_count": null,
   "id": "bd5fee55",
   "metadata": {},
   "outputs": [],
   "source": []
  },
  {
   "cell_type": "code",
   "execution_count": 178,
   "id": "ea785c5f",
   "metadata": {},
   "outputs": [
    {
     "name": "stdout",
     "output_type": "stream",
     "text": [
      "nilai anda adalah83\n"
     ]
    }
   ],
   "source": [
    "nilai = float(input('nilai anda adalah'))\n",
    "if nilai >= 85:\n",
    "    print('good job! anda mendapatkan nilai A')\n",
    "    print('pertahankan prestasimu!')\n",
    "if nilai < 76 and nilai >= 75:\n",
    "    print('good job! anda mendapat nilai B')\n",
    "    print('tingkatkna lagi prestasimu!')\n",
    "if nilai < 75 and nilai >= 50 :\n",
    "    print(\"anda mendapat nilai C\")\n",
    "    print('ayo tingkatkan lagi prestasimu')\n",
    "if nilai < 60:\n",
    "    print('anda mendapat nilai D')\n",
    "    print('ulang lagi tahun depan')"
   ]
  },
  {
   "cell_type": "code",
   "execution_count": 179,
   "id": "f4e4a58d",
   "metadata": {},
   "outputs": [
    {
     "name": "stdout",
     "output_type": "stream",
     "text": [
      "berapakah tinggi anda?150\n",
      "tingginya dalam cm atau inci?cm\n",
      "tinggi anda adalah59.055150000000005inci\n"
     ]
    }
   ],
   "source": [
    "tinggi = float(input('berapakah tinggi anda?'))\n",
    "cm_atau_inci = input('tingginya dalam cm atau inci?')\n",
    "if cm_atau_inci.upper()=='CM':\n",
    "    tinggi = tinggi*0.393701\n",
    "    print('tinggi anda adalah' + str(tinggi) + \"inci\")\n",
    "elif cm_atau_inci.upper() == 'INCI':\n",
    "    tinggi = tinggi/0.393701\n",
    "    print(f'tinggi anda adalah {tinggi} cm')"
   ]
  },
  {
   "cell_type": "code",
   "execution_count": null,
   "id": "a608d013",
   "metadata": {},
   "outputs": [],
   "source": []
  },
  {
   "cell_type": "code",
   "execution_count": 148,
   "id": "6d7ebab0",
   "metadata": {},
   "outputs": [
    {
     "name": "stdout",
     "output_type": "stream",
     "text": [
      "angka2masih dibawah 6\n",
      "angka3masih dibawah 6\n",
      "angka4masih dibawah 6\n"
     ]
    }
   ],
   "source": [
    "a = 2\n",
    "while a < 5:\n",
    "    print('angka' + str(a) + \"masih dibawah 6\")\n",
    "    a += 1"
   ]
  },
  {
   "cell_type": "code",
   "execution_count": 150,
   "id": "8898d2e8",
   "metadata": {},
   "outputs": [
    {
     "name": "stdout",
     "output_type": "stream",
     "text": [
      "\n",
      "**\n",
      "****\n"
     ]
    }
   ],
   "source": [
    "a = 0\n",
    "while a < 5:\n",
    "    print(a*'*')\n",
    "    a += 2"
   ]
  },
  {
   "cell_type": "code",
   "execution_count": null,
   "id": "76a1761f",
   "metadata": {},
   "outputs": [],
   "source": []
  }
 ],
 "metadata": {
  "kernelspec": {
   "display_name": "Python 3 (ipykernel)",
   "language": "python",
   "name": "python3"
  },
  "language_info": {
   "codemirror_mode": {
    "name": "ipython",
    "version": 3
   },
   "file_extension": ".py",
   "mimetype": "text/x-python",
   "name": "python",
   "nbconvert_exporter": "python",
   "pygments_lexer": "ipython3",
   "version": "3.9.7"
  }
 },
 "nbformat": 4,
 "nbformat_minor": 5
}
